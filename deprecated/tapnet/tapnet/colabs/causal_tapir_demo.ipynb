{
  "cells": [
    {
      "cell_type": "markdown",
      "metadata": {
        "id": "tFhqrPopctwa"
      },
      "source": [
        "Copyright 2020 DeepMind Technologies Limited.\n",
        "\n",
        "Licensed under the Apache License, Version 2.0 (the \"License\");\n",
        "you may not use this file except in compliance with the License.\n",
        "You may obtain a copy of the License at\n",
        "\n",
        "https://www.apache.org/licenses/LICENSE-2.0\n",
        "\n",
        "Unless required by applicable law or agreed to in writing, software\n",
        "distributed under the License is distributed on an \"AS IS\" BASIS,\n",
        "WITHOUT WARRANTIES OR CONDITIONS OF ANY KIND, either express or implied.\n",
        "See the License for the specific language governing permissions and\n",
        "limitations under the License."
      ]
    },
    {
      "cell_type": "markdown",
      "metadata": {
        "id": "zuYtT7GpuVgQ"
      },
      "source": [
        "\u003cp align=\"center\"\u003e\n",
        "  \u003ch1 align=\"center\"\u003eTAPIR: Tracking Any Point with per-frame Initialization and temporal Refinement\u003c/h1\u003e\n",
        "  \u003cp align=\"center\"\u003e\n",
        "    \u003ca href=\"http://www.carldoersch.com/\"\u003eCarl Doersch\u003c/a\u003e\n",
        "    ·\n",
        "    \u003ca href=\"https://yangyi02.github.io/\"\u003eYi Yang\u003c/a\u003e\n",
        "    ·\n",
        "    \u003ca href=\"https://scholar.google.com/citations?user=Jvi_XPAAAAAJ\"\u003eMel Vecerik\u003c/a\u003e\n",
        "    ·\n",
        "    \u003ca href=\"https://scholar.google.com/citations?user=cnbENAEAAAAJ\"\u003eDilara Gokay\u003c/a\u003e\n",
        "    ·\n",
        "    \u003ca href=\"https://www.robots.ox.ac.uk/~ankush/\"\u003eAnkush Gupta\u003c/a\u003e\n",
        "    ·\n",
        "    \u003ca href=\"http://people.csail.mit.edu/yusuf/\"\u003eYusuf Aytar\u003c/a\u003e\n",
        "    ·\n",
        "    \u003ca href=\"https://scholar.google.co.uk/citations?user=IUZ-7_cAAAAJ\"\u003eJoao Carreira\u003c/a\u003e\n",
        "    ·\n",
        "    \u003ca href=\"https://www.robots.ox.ac.uk/~az/\"\u003eAndrew Zisserman\u003c/a\u003e\n",
        "  \u003c/p\u003e\n",
        "  \u003ch3 align=\"center\"\u003e\u003ca href=\"https://arxiv.org/abs/2306.08637\"\u003ePaper\u003c/a\u003e | \u003ca href=\"https://deepmind-tapir.github.io\"\u003eProject Page\u003c/a\u003e | \u003ca href=\"https://github.com/deepmind/tapnet\"\u003eGitHub\u003c/a\u003e | \u003ca href=\"https://github.com/deepmind/tapnet/tree/main#running-tapir-locally\"\u003eLive Demo\u003c/a\u003e \u003c/h3\u003e\n",
        "  \u003cdiv align=\"center\"\u003e\u003c/div\u003e\n",
        "\u003c/p\u003e\n",
        "\n",
        "\u003cp align=\"center\"\u003e\n",
        "  \u003ca href=\"\"\u003e\n",
        "    \u003cimg src=\"https://storage.googleapis.com/dm-tapnet/swaying_gif.gif\" alt=\"Logo\" width=\"50%\"\u003e\n",
        "  \u003c/a\u003e\n",
        "\u003c/p\u003e"
      ]
    },
    {
      "cell_type": "code",
      "execution_count": null,
      "metadata": {
        "id": "mCmDvfFvxnGB"
      },
      "outputs": [],
      "source": [
        "# @title Download Code {form-width: \"25%\"}\n",
        "!git clone https://github.com/deepmind/tapnet.git"
      ]
    },
    {
      "cell_type": "code",
      "execution_count": null,
      "metadata": {
        "id": "OhpufXp4753v"
      },
      "outputs": [],
      "source": [
        "# @title Install Dependencies {form-width: \"25%\"}\n",
        "!pip install -r tapnet/requirements_inference.txt"
      ]
    },
    {
      "cell_type": "code",
      "execution_count": null,
      "metadata": {
        "id": "HaswJZMq9B3c"
      },
      "outputs": [],
      "source": [
        "# @title Download Model {form-width: \"25%\"}\n",
        "\n",
        "%mkdir tapnet/checkpoints\n",
        "\n",
        "!wget -P tapnet/checkpoints https://storage.googleapis.com/dm-tapnet/causal_tapir_checkpoint.npy\n",
        "\n",
        "%ls tapnet/checkpoints"
      ]
    },
    {
      "cell_type": "code",
      "execution_count": null,
      "metadata": {
        "id": "FxlHY242m-6Q"
      },
      "outputs": [],
      "source": [
        "# @title Imports {form-width: \"25%\"}\n",
        "%matplotlib widget\n",
        "import functools\n",
        "\n",
        "import haiku as hk\n",
        "import jax\n",
        "import jax.numpy as jnp\n",
        "import matplotlib.pyplot as plt\n",
        "import mediapy as media\n",
        "import numpy as np\n",
        "from tqdm import tqdm\n",
        "import tree\n",
        "\n",
        "from tapnet import tapir_model\n",
        "from tapnet.utils import transforms\n",
        "from tapnet.utils import viz_utils\n",
        "\n",
        "from google.colab import output\n",
        "output.enable_custom_widget_manager()"
      ]
    },
    {
      "cell_type": "code",
      "execution_count": null,
      "metadata": {
        "id": "7rfy2yobnHqw"
      },
      "outputs": [],
      "source": [
        "# @title Load Checkpoint {form-width: \"25%\"}\n",
        "\n",
        "checkpoint_path = 'tapnet/checkpoints/causal_tapir_checkpoint.npy'\n",
        "ckpt_state = np.load(checkpoint_path, allow_pickle=True).item()\n",
        "params, state = ckpt_state['params'], ckpt_state['state']"
      ]
    },
    {
      "cell_type": "code",
      "execution_count": null,
      "metadata": {
        "id": "I7wOMJoSQzq1"
      },
      "outputs": [],
      "source": [
        "# @title Build Model {form-width: \"25%\"}\n",
        "\n",
        "# Internally, the tapir model has three stages of processing: computing\n",
        "# image features (get_feature_grids), extracting features for each query point\n",
        "# (get_query_features), and estimating trajectories given query features and\n",
        "# the feature grids where we want to track (estimate_trajectories).  For\n",
        "# tracking online, we need extract query features on the first frame only, and\n",
        "# then call estimate_trajectories on one frame at a time.\n",
        "\n",
        "def build_online_model_init(frames, query_points):\n",
        "  \"\"\"Initialize query features for the query points.\"\"\"\n",
        "  model = tapir_model.TAPIR(use_causal_conv=True, bilinear_interp_with_depthwise_conv=False)\n",
        "\n",
        "  feature_grids = model.get_feature_grids(frames, is_training=False)\n",
        "  query_features = model.get_query_features(\n",
        "      frames,\n",
        "      is_training=False,\n",
        "      query_points=query_points,\n",
        "      feature_grids=feature_grids,\n",
        "  )\n",
        "  return query_features\n",
        "\n",
        "\n",
        "def build_online_model_predict(frames, query_features, causal_context):\n",
        "  \"\"\"Compute point tracks and occlusions given frames and query points.\"\"\"\n",
        "  model = tapir_model.TAPIR(use_causal_conv=True, bilinear_interp_with_depthwise_conv=False)\n",
        "  feature_grids = model.get_feature_grids(frames, is_training=False)\n",
        "  trajectories = model.estimate_trajectories(\n",
        "      frames.shape[-3:-1],\n",
        "      is_training=False,\n",
        "      feature_grids=feature_grids,\n",
        "      query_features=query_features,\n",
        "      query_points_in_video=None,\n",
        "      query_chunk_size=64,\n",
        "      causal_context=causal_context,\n",
        "      get_causal_context=True,\n",
        "  )\n",
        "  causal_context = trajectories['causal_context']\n",
        "  del trajectories['causal_context']\n",
        "  return {k: v[-1] for k, v in trajectories.items()}, causal_context\n",
        "\n",
        "\n",
        "online_init = hk.transform_with_state(build_online_model_init)\n",
        "online_init_apply = jax.jit(online_init.apply)\n",
        "\n",
        "online_predict = hk.transform_with_state(build_online_model_predict)\n",
        "online_predict_apply = jax.jit(online_predict.apply)\n",
        "\n",
        "rng = jax.random.PRNGKey(42)\n",
        "online_init_apply = functools.partial(\n",
        "    online_init_apply, params=params, state=state, rng=rng\n",
        ")\n",
        "online_predict_apply = functools.partial(\n",
        "    online_predict_apply, params=params, state=state, rng=rng\n",
        ")"
      ]
    },
    {
      "cell_type": "code",
      "execution_count": null,
      "metadata": {
        "id": "ogRTRVgfSq0W"
      },
      "outputs": [],
      "source": [
        "# @title Utility Functions {form-width: \"25%\"}\n",
        "\n",
        "def preprocess_frames(frames):\n",
        "  \"\"\"Preprocess frames to model inputs.\n",
        "\n",
        "  Args:\n",
        "    frames: [num_frames, height, width, 3], [0, 255], np.uint8\n",
        "\n",
        "  Returns:\n",
        "    frames: [num_frames, height, width, 3], [-1, 1], np.float32\n",
        "  \"\"\"\n",
        "  frames = frames.astype(np.float32)\n",
        "  frames = frames / 255 * 2 - 1\n",
        "  return frames\n",
        "\n",
        "\n",
        "def postprocess_occlusions(occlusions, expected_dist):\n",
        "  \"\"\"Postprocess occlusions to boolean visible flag.\n",
        "\n",
        "  Args:\n",
        "    occlusions: [num_points, num_frames], [-inf, inf], np.float32\n",
        "\n",
        "  Returns:\n",
        "    visibles: [num_points, num_frames], bool\n",
        "  \"\"\"\n",
        "  pred_occ = jax.nn.sigmoid(occlusions)\n",
        "  pred_occ = 1 - (1 - pred_occ) * (1 - jax.nn.sigmoid(expected_dist))\n",
        "  visibles = pred_occ \u003c 0.5  # threshold\n",
        "  return visibles\n",
        "\n",
        "\n",
        "def sample_random_points(frame_max_idx, height, width, num_points):\n",
        "  \"\"\"Sample random points with (time, height, width) order.\"\"\"\n",
        "  y = np.random.randint(0, height, (num_points, 1))\n",
        "  x = np.random.randint(0, width, (num_points, 1))\n",
        "  t = np.random.randint(0, frame_max_idx + 1, (num_points, 1))\n",
        "  points = np.concatenate((t, y, x), axis=-1).astype(np.int32)  # [num_points, 3]\n",
        "  return points\n",
        "\n",
        "\n",
        "def construct_initial_causal_state(num_points, num_resolutions):\n",
        "  value_shapes = {\n",
        "      \"tapir/~/pips_mlp_mixer/block_1_causal_1\": (1, num_points, 2, 512),\n",
        "      \"tapir/~/pips_mlp_mixer/block_1_causal_2\": (1, num_points, 2, 2048),\n",
        "      \"tapir/~/pips_mlp_mixer/block_2_causal_1\": (1, num_points, 2, 512),\n",
        "      \"tapir/~/pips_mlp_mixer/block_2_causal_2\": (1, num_points, 2, 2048),\n",
        "      \"tapir/~/pips_mlp_mixer/block_3_causal_1\": (1, num_points, 2, 512),\n",
        "      \"tapir/~/pips_mlp_mixer/block_3_causal_2\": (1, num_points, 2, 2048),\n",
        "      \"tapir/~/pips_mlp_mixer/block_4_causal_1\": (1, num_points, 2, 512),\n",
        "      \"tapir/~/pips_mlp_mixer/block_4_causal_2\": (1, num_points, 2, 2048),\n",
        "      \"tapir/~/pips_mlp_mixer/block_5_causal_1\": (1, num_points, 2, 512),\n",
        "      \"tapir/~/pips_mlp_mixer/block_5_causal_2\": (1, num_points, 2, 2048),\n",
        "      \"tapir/~/pips_mlp_mixer/block_6_causal_1\": (1, num_points, 2, 512),\n",
        "      \"tapir/~/pips_mlp_mixer/block_6_causal_2\": (1, num_points, 2, 2048),\n",
        "      \"tapir/~/pips_mlp_mixer/block_7_causal_1\": (1, num_points, 2, 512),\n",
        "      \"tapir/~/pips_mlp_mixer/block_7_causal_2\": (1, num_points, 2, 2048),\n",
        "      \"tapir/~/pips_mlp_mixer/block_8_causal_1\": (1, num_points, 2, 512),\n",
        "      \"tapir/~/pips_mlp_mixer/block_8_causal_2\": (1, num_points, 2, 2048),\n",
        "      \"tapir/~/pips_mlp_mixer/block_9_causal_1\": (1, num_points, 2, 512),\n",
        "      \"tapir/~/pips_mlp_mixer/block_9_causal_2\": (1, num_points, 2, 2048),\n",
        "      \"tapir/~/pips_mlp_mixer/block_10_causal_1\": (1, num_points, 2, 512),\n",
        "      \"tapir/~/pips_mlp_mixer/block_10_causal_2\": (1, num_points, 2, 2048),\n",
        "      \"tapir/~/pips_mlp_mixer/block_11_causal_1\": (1, num_points, 2, 512),\n",
        "      \"tapir/~/pips_mlp_mixer/block_11_causal_2\": (1, num_points, 2, 2048),\n",
        "      \"tapir/~/pips_mlp_mixer/block_causal_1\": (1, num_points, 2, 512),\n",
        "      \"tapir/~/pips_mlp_mixer/block_causal_2\": (1, num_points, 2, 2048),\n",
        "  }\n",
        "  fake_ret = {\n",
        "      k: jnp.zeros(v, dtype=jnp.float32) for k, v in value_shapes.items()\n",
        "  }\n",
        "  return [fake_ret] * num_resolutions * 4"
      ]
    },
    {
      "cell_type": "code",
      "execution_count": null,
      "metadata": {
        "id": "Izp33JBg6eij"
      },
      "outputs": [],
      "source": [
        "# @title Load an Exemplar Video {form-width: \"25%\"}\n",
        "\n",
        "%mkdir tapnet/examplar_videos\n",
        "\n",
        "!wget -P tapnet/examplar_videos https://storage.googleapis.com/dm-tapnet/horsejump-high.mp4\n",
        "\n",
        "video = media.read_video('tapnet/examplar_videos/horsejump-high.mp4')\n",
        "height, width = video.shape[1:3]\n",
        "media.show_video(video, fps=10)"
      ]
    },
    {
      "cell_type": "code",
      "execution_count": null,
      "metadata": {
        "id": "_LLK7myqp3Px"
      },
      "outputs": [],
      "source": [
        "# @title Progressively Predict Sparse Point Tracks {form-width: \"25%\"}\n",
        "\n",
        "resize_height = 256  # @param {type: \"integer\"}\n",
        "resize_width = 256  # @param {type: \"integer\"}\n",
        "num_points = 20  # @param {type: \"integer\"}\n",
        "\n",
        "frames = media.resize_video(video, (resize_height, resize_width))\n",
        "query_points = sample_random_points(0, frames.shape[1], frames.shape[2], num_points)\n",
        "\n",
        "query_features, _ = online_init_apply(frames=preprocess_frames(frames[None, None, 0]), query_points=query_points[None])\n",
        "causal_state = construct_initial_causal_state(query_points.shape[0], len(query_features.resolutions) - 1)\n",
        "\n",
        "# Predict point tracks frame by frame\n",
        "predictions = []\n",
        "for i in range(frames.shape[0]):\n",
        "  (prediction, causal_state), _ = online_predict_apply(\n",
        "      frames=preprocess_frames(frames[None, None, i]),\n",
        "      query_features=query_features,\n",
        "      causal_context=causal_state,\n",
        "  )\n",
        "  predictions.append(prediction)\n",
        "\n",
        "tracks = np.concatenate([x['tracks'][0] for x in predictions], axis=1)\n",
        "occlusions = np.concatenate([x['occlusion'][0] for x in predictions], axis=1)\n",
        "expected_dist = np.concatenate([x['expected_dist'][0] for x in predictions], axis=1)\n",
        "\n",
        "visibles = postprocess_occlusions(occlusions, expected_dist)\n",
        "\n",
        "# Visualize sparse point tracks\n",
        "tracks = transforms.convert_grid_coordinates(tracks, (resize_width, resize_height), (width, height))\n",
        "video_viz = viz_utils.paint_point_track(video, tracks, visibles)\n",
        "media.show_video(video_viz, fps=10)"
      ]
    },
    {
      "cell_type": "code",
      "execution_count": null,
      "metadata": {
        "id": "9RyQhPLrwpjF"
      },
      "outputs": [],
      "source": [
        "# @title Select Any Points at First Frame {form-width: \"25%\"}\n",
        "\n",
        "# Generate a colormap with 20 points, no need to change unless select more than 20 points\n",
        "colormap = viz_utils.get_colors(20)\n",
        "\n",
        "fig, ax = plt.subplots(figsize=(10, 5))\n",
        "ax.imshow(video[0])\n",
        "ax.axis('off')\n",
        "ax.set_title('You can select more than 1 points. After select enough points, run the next cell.')\n",
        "\n",
        "select_points = []\n",
        "\n",
        " # Event handler for mouse clicks\n",
        "def on_click(event):\n",
        "  if event.button == 1 and event.inaxes == ax:  # Left mouse button clicked\n",
        "    x, y = int(np.round(event.xdata)), int(np.round(event.ydata))\n",
        "\n",
        "    select_points.append(np.array([x, y]))\n",
        "\n",
        "    color = colormap[len(select_points) - 1]\n",
        "    color = tuple(np.array(color) / 255.0)\n",
        "    ax.plot(x, y, 'o', color=color, markersize=5)\n",
        "    plt.draw()\n",
        "\n",
        "fig.canvas.mpl_connect('button_press_event', on_click)\n",
        "plt.show()"
      ]
    },
    {
      "cell_type": "code",
      "execution_count": null,
      "metadata": {
        "id": "J5GVZDywwsO-"
      },
      "outputs": [],
      "source": [
        "# @title Predict Point Tracks for the Selected Points {form-width: \"25%\"}\n",
        "\n",
        "resize_height = 256  # @param {type: \"integer\"}\n",
        "resize_width = 256  # @param {type: \"integer\"}\n",
        "\n",
        "def convert_select_points_to_query_points(frame, points):\n",
        "  \"\"\"Convert select points to query points.\n",
        "\n",
        "  Args:\n",
        "    points: [num_points, 2], [t, y, x]\n",
        "  Returns:\n",
        "    query_points: [num_points, 3], [t, y, x]\n",
        "  \"\"\"\n",
        "  points = np.stack(points)\n",
        "  query_points = np.zeros(shape=(points.shape[0], 3), dtype=np.float32)\n",
        "  query_points[:, 0] = frame\n",
        "  query_points[:, 1] = points[:, 1]\n",
        "  query_points[:, 2] = points[:, 0]\n",
        "  return query_points\n",
        "\n",
        "frames = media.resize_video(video, (resize_height, resize_width))\n",
        "query_points = convert_select_points_to_query_points(0, select_points)\n",
        "query_points = transforms.convert_grid_coordinates(\n",
        "    query_points, (1, height, width), (1, resize_height, resize_width), coordinate_format='tyx')\n",
        "\n",
        "query_features, _ = online_init_apply(frames=preprocess_frames(frames[None, None, 0]), query_points=query_points[None])\n",
        "causal_state = construct_initial_causal_state(query_points.shape[0], len(query_features.resolutions) - 1)\n",
        "\n",
        "# Predict point tracks frame by frame\n",
        "predictions = []\n",
        "for i in tqdm(range(frames.shape[0])):\n",
        "  (prediction, causal_state), _ = online_predict_apply(\n",
        "      frames=preprocess_frames(frames[None, None, i]),\n",
        "      query_features=query_features,\n",
        "      causal_context=causal_state,\n",
        "  )\n",
        "  predictions.append(prediction)\n",
        "\n",
        "tracks = np.concatenate([x['tracks'][0] for x in predictions], axis=1)\n",
        "occlusions = np.concatenate([x['occlusion'][0] for x in predictions], axis=1)\n",
        "expected_dist = np.concatenate([x['expected_dist'][0] for x in predictions], axis=1)\n",
        "\n",
        "visibles = postprocess_occlusions(occlusions, expected_dist)\n",
        "\n",
        "# Visualize sparse point tracks\n",
        "tracks = transforms.convert_grid_coordinates(tracks, (resize_width, resize_height), (width, height))\n",
        "video_viz = viz_utils.paint_point_track(video, tracks, visibles, colormap)\n",
        "media.show_video(video_viz, fps=10)"
      ]
    },
    {
      "cell_type": "markdown",
      "metadata": {
        "id": "8orfQRoaRJit"
      },
      "source": [
        "That's it!"
      ]
    }
  ],
  "metadata": {
    "accelerator": "GPU",
    "colab": {
      "provenance": []
    },
    "gpuClass": "standard",
    "kernelspec": {
      "display_name": "Python 3",
      "name": "python3"
    },
    "language_info": {
      "name": "python"
    }
  },
  "nbformat": 4,
  "nbformat_minor": 0
}
