{
  "cells": [
    {
      "cell_type": "markdown",
      "metadata": {
        "id": "nIBQOHgCLBww"
      },
      "source": [
        "<div align=\"center\">\n",
        "<img height=\"80\" src=\"https://miro.medium.com/max/198/1*-ZlGSSXvRbDSr13_CDRaJA.png\">\n",
        "<p style=\"text-align:center\">Accelerate the development of ML applications with modern workflow.<br>\n",
        "Go from experiments to real-world applications faster at scale.<br>\n",
        "</div>\n",
        "\n",
        "<div align=\"center\">\n",
        "    <a target=\"_blank\" href=\"https://join.slack.com/t/vessl-ai-community/shared_invite/zt-1a6schu04-NyjRKE0UMli58Z_lthBICA\"><img src=\"https://img.shields.io/badge/style--5eba00.svg?label=Slack&logo=slack&style=social\"></a>&nbsp;\n",
        "    <a target=\"_blank\" href=\"https://twitter.com/vesslai\"><img src=\"https://img.shields.io/badge/style--5eba00.svg?label=Twitter&logo=twitter&style=social\"></a>&nbsp;\n",
        "    <a target=\"_blank\" href=\"https://www.linkedin.com/company/vesslai\"><img src=\"https://img.shields.io/badge/style--5eba00.svg?label=LinkedIn&logo=linkedin&style=social\"></a>&nbsp;\n",
        "    <a target=\"_blank\" href=\"https://vesslai.medium.com/\"><img src=\"https://img.shields.io/badge/style--5eba00.svg?label=Medium&logo=medium&style=social\"></a>&nbsp;\n",
        "    <a target=\"_blank\" href=\"https://github.com/vessl-ai/examples/\"><img src=\"https://img.shields.io/badge/style--5eba00.svg?label=GitHub&logo=github&style=social\"></a>&nbsp;\n",
        "    <br>\n",
        "</div>"
      ]
    },
    {
      "cell_type": "markdown",
      "metadata": {
        "id": "z3XqfzpcNZTF"
      },
      "source": [
        "## Quickstart\n",
        " \n",
        "**Log and visualize experiments with `vessl` library** <br>\n",
        "📈 &nbsp; Use `vessl.log` to log, store, and visualize key metrics <br>\n",
        "🏞️ &nbsp; Log rich media files for your SOTA computer vision or NLP model <br>\n",
        "👯 &nbsp; Collaborate with your teammates on custom dashboards <br>"
      ]
    },
    {
      "cell_type": "markdown",
      "metadata": {
        "id": "1XeWaCc6Np32"
      },
      "source": [
        "Use vessl.log in a training or testing loop to log a dictionary of metrics. Provide the step parameter for the loop unit – like the epoch value – and any metrics you want to log as a dictionary in the row parameter.\n",
        "\n",
        "You can also log images or audio types of objects. Provide a list of vessl.Image objects or vessl.Audio with data and captions as the payload parameter with any dictionary key. Note that only the first key will be logged."
      ]
    },
    {
      "cell_type": "markdown",
      "metadata": {
        "id": "qPgoqNkHBaMh"
      },
      "source": [
        "## 🪄 Install VESSL Requirements"
      ]
    },
    {
      "cell_type": "code",
      "execution_count": null,
      "metadata": {
        "id": "Qi54mmK9BTif"
      },
      "outputs": [],
      "source": [
        "!pip install vessl"
      ]
    },
    {
      "cell_type": "markdown",
      "metadata": {
        "id": "-91__xYuSS2O"
      },
      "source": [
        "## ⚓ Import VESSL Python SDK"
      ]
    },
    {
      "cell_type": "code",
      "execution_count": null,
      "metadata": {
        "id": "O8Nag7hMBXNg"
      },
      "outputs": [],
      "source": [
        "import vessl"
      ]
    },
    {
      "cell_type": "markdown",
      "metadata": {
        "id": "gbb5ipVHWB1W"
      },
      "source": [
        "## 🫂 Connect to your VESSL Organization & Project"
      ]
    },
    {
      "cell_type": "markdown",
      "metadata": {
        "id": "_kLvkNGWWQQi"
      },
      "source": [
        "### 𝟙. VESSL Configure ✅\n"
      ]
    },
    {
      "cell_type": "markdown",
      "metadata": {
        "id": "6ARu91sHWyxh"
      },
      "source": [
        "\n",
        "Next, login into VESSL using [🔗&nbsp;`vessl.configure()`](https://docs.vessl.ai/api-reference/python-sdk/utils/configure). When you run the command, you will be guided to a CLI login page as shown below. Grant access. \n",
        "\n",
        "If you are in more than one organization, specify the organization name and project as inputs."
      ]
    },
    {
      "cell_type": "code",
      "execution_count": null,
      "metadata": {
        "id": "B-UT23inBhiO"
      },
      "outputs": [],
      "source": [
        "# Login to your vessl account\n",
        "vessl.configure()\n",
        "\n",
        "# Configure default organization and project if you have more than one organization\n",
        "# vessl.configure(organization_name=\"ORGANIZATION_NAME\", project_name=\"PROJECT_NAME\")"
      ]
    },
    {
      "cell_type": "markdown",
      "metadata": {
        "id": "KnjwNcxYWtvp"
      },
      "source": [
        "<img width=600 src=\"https://i.imgur.com/JfCt5cx.png\"/>"
      ]
    },
    {
      "cell_type": "markdown",
      "metadata": {
        "id": "zATMh-uBb0LU"
      },
      "source": [
        "You should see the page below if you logged in successfully."
      ]
    },
    {
      "cell_type": "markdown",
      "metadata": {
        "id": "8MlZYwvEaY0Q"
      },
      "source": [
        "<img width=600 src=\"https://i.imgur.com/DijS8gc.png\"/>\n"
      ]
    },
    {
      "cell_type": "markdown",
      "metadata": {
        "id": "oqun5cukpWsM"
      },
      "source": [
        "### 𝟚. Initialize a new experiments 🏃"
      ]
    },
    {
      "cell_type": "markdown",
      "metadata": {
        "id": "FVeAw-egxdwc"
      },
      "source": [
        "Before initializing a new experiment, let's create your first project where all your experimnets will be recorded by running [🔗&nbsp;`vessl.create_project()`](https://docs.vessl.ai/api-reference/python-sdk/project)."
      ]
    },
    {
      "cell_type": "code",
      "execution_count": null,
      "metadata": {
        "id": "RuoZZvfgx2kG"
      },
      "outputs": [],
      "source": [
        "vessl.create_project(project_name=\"vessl-log-test\")"
      ]
    },
    {
      "cell_type": "markdown",
      "metadata": {
        "id": "Y4VyKnLtyQXb"
      },
      "source": [
        "Then you can see the project you created on VESSL as below.\n",
        "<img src=\"https://i.imgur.com/h1rjnNl.png\"/>"
      ]
    },
    {
      "cell_type": "markdown",
      "metadata": {
        "id": "bU5YM-Ub2QYw"
      },
      "source": [
        "Now, you have to read your project in this notebook.\n",
        "In this situation, you can use \"[🔗&nbsp;`vessl.read_project()`](https://docs.vessl.ai/api-reference/python-sdk/project#read_project)\""
      ]
    },
    {
      "cell_type": "code",
      "execution_count": null,
      "metadata": {
        "id": "eMDvUrab2py5"
      },
      "outputs": [],
      "source": [
        "vessl.read_project(project_name=\"vessl-log-test\")"
      ]
    },
    {
      "cell_type": "markdown",
      "metadata": {
        "id": "GgmPE2QApd-v"
      },
      "source": [
        "Use [🔗&nbsp;`vessl.init()`](https://docs.vessl.ai/api-reference/python-sdk/utils/vessl.init) to initialize an new experiment and specify your name as a parameter. \n",
        "\n",
        "Follow the output link to see your experiment being visualized as you run the code below."
      ]
    },
    {
      "cell_type": "code",
      "execution_count": null,
      "metadata": {
        "id": "t99Sttz9ffgi"
      },
      "outputs": [],
      "source": [
        "vessl.init(project_name=\"vessl-log-test\")"
      ]
    },
    {
      "cell_type": "markdown",
      "metadata": {
        "id": "woteV9dJANry"
      },
      "source": [
        "## ✍ Logging your metrics on your experiments plots"
      ]
    },
    {
      "cell_type": "markdown",
      "metadata": {
        "id": "LIOnPU4M4OUp"
      },
      "source": [
        "### 𝟙.Logging Scalar 🔢\n",
        "\n"
      ]
    },
    {
      "cell_type": "markdown",
      "metadata": {
        "id": "ibO-rdpc6l8q"
      },
      "source": [
        "You are now all set to log your experiment metrics.\n",
        "Let's start with scalars.\n",
        "\n",
        "All you have to do is add a single line of code , \"[🔗&nbsp;`vessl.log()`](https://docs.vessl.ai/api-reference/python-sdk/utils/vessl.log)\", to your logging code."
      ]
    },
    {
      "cell_type": "code",
      "execution_count": null,
      "metadata": {
        "id": "tSB0rGkVpyzK"
      },
      "outputs": [],
      "source": [
        "vessl.log(step=1, payload={'accuracy': 0.1})\n",
        "vessl.log(step=2, payload={'accuracy': 0.2})\n",
        "vessl.log(step=3, payload={'accuracy': 0.3})"
      ]
    },
    {
      "cell_type": "markdown",
      "metadata": {
        "id": "TQUDzQO87xtW"
      },
      "source": [
        "As you can see in the image below, you can log your scalar metrics in each experiment's plot section.\n",
        "\n",
        "<img src=\"https://i.imgur.com/vPtqLYP.png\" width=600>"
      ]
    },
    {
      "cell_type": "markdown",
      "metadata": {
        "id": "mR2uGBaX-dLm"
      },
      "source": [
        "Let's try one more time‼"
      ]
    },
    {
      "cell_type": "code",
      "execution_count": null,
      "metadata": {
        "id": "TxXQ7gw74c0f"
      },
      "outputs": [],
      "source": [
        "vessl.log(step=4, payload={'accuracy': 0.4})\n",
        "vessl.log(step=5, payload={'accuracy': 0.5})\n",
        "vessl.log(step=6, payload={'accuracy': 0.6})"
      ]
    },
    {
      "cell_type": "markdown",
      "metadata": {
        "id": "zrq8CX6I-stb"
      },
      "source": [
        "<img src=\"https://i.imgur.com/HQlE3Sv.png\" width=600 >"
      ]
    },
    {
      "cell_type": "markdown",
      "metadata": {
        "id": "tGR47lzjAiZa"
      },
      "source": [
        "### 𝟚. Logging image 🖼"
      ]
    },
    {
      "cell_type": "markdown",
      "metadata": {
        "id": "4TbzZuYTXn6A"
      },
      "source": [
        "VESSL also support image logging.\n",
        "Use the [🔗&nbsp;vessl.Image class](https://docs.vessl.ai/api-reference/python-sdk/utils/vessl.log/vessl.image) to log image data with its caption. This feature is useful when training image recognition models.\n",
        "\n",
        "Let's log an image of a puppy.\n",
        "\n",
        "<img src=\"https://i.imgur.com/UQAeI94.jpg\" height=300 width=300>\n",
        "\n",
        "\n"
      ]
    },
    {
      "cell_type": "markdown",
      "metadata": {
        "id": "vGj5ih7erl_F"
      },
      "source": [
        "First, download the puppy image."
      ]
    },
    {
      "cell_type": "code",
      "execution_count": null,
      "metadata": {
        "id": "XuhOtjIOOdSs"
      },
      "outputs": [],
      "source": [
        "# Download the image\n",
        "import requests\n",
        "\n",
        "r = requests.get(\"https://vessl-static.s3.us-west-2.amazonaws.com/tutorial-colab/cute-little-puppy.jpeg\")\n",
        "image_path ='/content/sample_data/cute-little-puppy.jpeg'\n",
        "with open(image_path, 'wb') as f:\n",
        "  f.write(r.content)"
      ]
    },
    {
      "cell_type": "markdown",
      "metadata": {
        "id": "7FTvOpHosPsC"
      },
      "source": [
        "Now, let's upload and record the image with a caption."
      ]
    },
    {
      "cell_type": "code",
      "execution_count": null,
      "metadata": {
        "id": "Mnz0pTpGArzA"
      },
      "outputs": [],
      "source": [
        "# Log the image file with a caption\n",
        "log_image = vessl.Image(data=image_path, caption='This is a cat.')\n",
        "vessl.log(payload={\"log-image\": log_image})"
      ]
    },
    {
      "cell_type": "markdown",
      "metadata": {
        "id": "b-TPy8serQa9"
      },
      "source": [
        "You can see the cute little puppy in your plot media dashboard.\n",
        "\n",
        "Not only the uploaded image file, you can record PIL image, numpy array image, and torch tensor image.\n",
        "\n",
        "For more information, please see the [🔗&nbsp;VESSL Image page](https://docs.vessl.ai/api-reference/python-sdk/utils/vessl.log/vessl.image)."
      ]
    },
    {
      "cell_type": "markdown",
      "metadata": {
        "id": "R-0sHGKpR2ro"
      },
      "source": [
        "<img src=\"https://i.imgur.com/K7ao9Bk.png\" width=600>"
      ]
    },
    {
      "cell_type": "markdown",
      "metadata": {
        "id": "uYPpyJREsVtu"
      },
      "source": [
        "### 𝟛. Logging Audio 🎧"
      ]
    },
    {
      "cell_type": "markdown",
      "metadata": {
        "id": "OynLr175sjQe"
      },
      "source": [
        "To log audio files, use the `vessl.Audio` class. This takes the audio data and saves it as a local WAV file in the `vessl-media/audio` directory."
      ]
    },
    {
      "cell_type": "markdown",
      "metadata": {
        "id": "Ssq9_9Ib1F9M"
      },
      "source": [
        "First, let's download an audio file [`mint-cookie-bgmfactory.wav`](https://drive.google.com/file/d/1Lu5j8s2xns4zajWmB5mdmiz8Ez5kms9n/view?usp=sharing) and install `soundfile` which allows us to record an audio file in a directory. "
      ]
    },
    {
      "cell_type": "code",
      "execution_count": null,
      "metadata": {
        "id": "A1u5wwlUQKpD"
      },
      "outputs": [],
      "source": [
        "# Download audio file\n",
        "\n",
        "import requests\n",
        "\n",
        "\n",
        "audio_path = \"/content/sample_data/star-wars.wav\"\n",
        "with requests.get(\"https://vessl-static.s3-accelerate.amazonaws.com/tutorial-colab/star-wars.wav\", stream=True) as r:\n",
        "    r.raise_for_status()\n",
        "    with open(audio_path, 'wb') as f:\n",
        "        for chunk in r.iter_content(chunk_size=8192):\n",
        "            f.write(chunk)"
      ]
    },
    {
      "cell_type": "markdown",
      "metadata": {
        "id": "ZsTHFqZiuQK1"
      },
      "source": [
        "For recording soudfile on directory, we need more package called \"soundfile\". "
      ]
    },
    {
      "cell_type": "code",
      "execution_count": null,
      "metadata": {
        "id": "PpWeis2EubAn"
      },
      "outputs": [],
      "source": [
        "!pip install soundfile\n",
        "import soundfile as sf"
      ]
    },
    {
      "cell_type": "code",
      "execution_count": null,
      "metadata": {
        "id": "pi8GEORkUyqh"
      },
      "outputs": [],
      "source": [
        "# Upload audio file\n",
        "data, sample_rate = sf.read(audio_path)\n",
        "\n",
        "vessl.log(\n",
        "  payload={\n",
        "    \"test-audio\": [\n",
        "      vessl.Audio(data, sample_rate=sample_rate, caption=\"audio-example-star-wars\")\n",
        "    ]\n",
        "  }\n",
        ")"
      ]
    },
    {
      "cell_type": "markdown",
      "metadata": {
        "id": "9wymFzEC4yCM"
      },
      "source": [
        "You can see the audio file has uploaded on experiment plot."
      ]
    },
    {
      "cell_type": "markdown",
      "metadata": {
        "id": "zQe6j8EZ2Lb1"
      },
      "source": [
        "<img width=600 src=\"https://i.imgur.com/iiFM2l9.png\"/>"
      ]
    },
    {
      "cell_type": "markdown",
      "metadata": {
        "id": "vW47ET-93LiL"
      },
      "source": [
        "To finish the experiment, call `vessl.finish()`."
      ]
    },
    {
      "cell_type": "code",
      "execution_count": null,
      "metadata": {
        "id": "aazhekbauliU"
      },
      "outputs": [],
      "source": [
        "vessl.finish()"
      ]
    },
    {
      "cell_type": "markdown",
      "metadata": {
        "id": "FEovWojK3oXY"
      },
      "source": [
        "You can see the completed experiment on our dashboard."
      ]
    },
    {
      "cell_type": "markdown",
      "metadata": {
        "id": "IkpngRwj3gCt"
      },
      "source": [
        "<img src=\"https://i.imgur.com/KPR4G4i.png\" width=600/>"
      ]
    },
    {
      "cell_type": "markdown",
      "metadata": {
        "id": "kghkBz74ueMy"
      },
      "source": [
        "# What's Next?\n",
        "\n",
        "**Build a simple Pytorch neural network from scratch on a GPU-accelerated notebook.**<br>\n",
        "👉 &nbsp; Use VESSL Workspace to build models from scratch <br>\n",
        "⚡ &nbsp; Get instant access to GPU-accelerated Jupyter notebook <br>\n",
        "🎛️ &nbsp; Jump right into pre-configured dev environment shared across your team <br>\n",
        "🤸 &nbsp; Try to track your own ML model training progress with [🔗&nbsp;VESSL Local Experiment](https://docs.vessl.ai/user-guide/experiment/local-experiments)!\n",
        "<br>"
      ]
    },
    {
      "cell_type": "code",
      "execution_count": null,
      "metadata": {
        "id": "RCgh1dr43BxL"
      },
      "outputs": [],
      "source": []
    }
  ],
  "metadata": {
    "colab": {
      "collapsed_sections": [],
      "name": "Log and visualize experiments on VESSL.ipynb",
      "provenance": []
    },
    "kernelspec": {
      "display_name": "Python 3",
      "name": "python3"
    },
    "language_info": {
      "name": "python"
    }
  },
  "nbformat": 4,
  "nbformat_minor": 0
}
